{
  "nbformat": 4,
  "nbformat_minor": 0,
  "metadata": {
    "colab": {
      "provenance": []
    },
    "kernelspec": {
      "name": "python3",
      "display_name": "Python 3"
    },
    "language_info": {
      "name": "python"
    }
  },
  "cells": [
    {
      "cell_type": "code",
      "execution_count": null,
      "metadata": {
        "id": "5VnFGj0z1Z8V"
      },
      "outputs": [],
      "source": []
    },
    {
      "cell_type": "markdown",
      "source": [
        "1. Write a simple program in HTML  that displays the heading \"HTML defines the content and structure of\n",
        "your website” on the web browser ?"
      ],
      "metadata": {
        "id": "ugNR5Osc2l4M"
      }
    },
    {
      "cell_type": "code",
      "source": [
        "\n",
        "<!DOCTYPE html>\n",
        "<html>\n",
        "<head>\n",
        "<title> simple program </title>\n",
        "</head>\n",
        "<body>\n",
        "<h1> HTML defines the content and structure of your website </h1>\n",
        "</body>\n",
        "</html>\n"
      ],
      "metadata": {
        "id": "H_IyMsbf2ukU"
      },
      "execution_count": null,
      "outputs": []
    },
    {
      "cell_type": "markdown",
      "source": [
        "2. Explain the purpose of comments in HTML and provide an example of how to use comments in an HTML\n",
        "document ?"
      ],
      "metadata": {
        "id": "MROGWIT03kcx"
      }
    },
    {
      "cell_type": "markdown",
      "source": [
        "Comments in HTML are used to add notes or explanations within the code. They help developers understand the structure of the HTML document and make future modifications easier. Comments are ignored by the browser and do not affect the webpage's appearance.\n",
        "\n"
      ],
      "metadata": {
        "id": "-IWqmK1d3tYp"
      }
    },
    {
      "cell_type": "markdown",
      "source": [
        "In HTML, comments are always written using the <!-- ... --> syntax, even for single-line or multiline comments.\n",
        "eg:\n",
        "<!-- This is a single-line comment -->\n",
        "<!--\n",
        "    This is a multiline comment.\n",
        "    It spans multiple lines.\n",
        "    The browser will ignore this content.\n",
        "-->"
      ],
      "metadata": {
        "id": "g2ZsFOzU59Bb"
      }
    },
    {
      "cell_type": "markdown",
      "source": [
        "3. Write an HTML program that includes a heading, a paragraph of text, a horizontal line, and a line break.\n",
        "Arrange these elements to create a simple web page layout?"
      ],
      "metadata": {
        "id": "GAZLS-IM5_uU"
      }
    },
    {
      "cell_type": "code",
      "source": [
        "\n",
        "<!DOCTYPE html>\n",
        "<html>\n",
        "<head>\n",
        "<title> simple program </title>\n",
        "</head>\n",
        "<body>\n",
        "<h1>This is my second assignment</h1>\n",
        "<hr>\n",
        "<p> HTML means hyper text markup language , used for structure the web page</p>\n",
        "<br>\n",
        "<p>good learning , keep learning</p>\n",
        "\n",
        "</body>\n",
        "</html>\n"
      ],
      "metadata": {
        "id": "ERNlN9oL6JXd"
      },
      "execution_count": null,
      "outputs": []
    },
    {
      "cell_type": "markdown",
      "source": [
        "4. Write a short note on Tag and element with an example ?"
      ],
      "metadata": {
        "id": "ol84wNU07H7f"
      }
    },
    {
      "cell_type": "markdown",
      "source": [
        "--> TAG:\n",
        "A tag is a part of HTML syntax used to define elements on a webpage. It is enclosed in angle brackets (< >). Most tags come in pairs: an opening tag and a closing tag.\n"
      ],
      "metadata": {
        "id": "jegRuZqm7NR8"
      }
    },
    {
      "cell_type": "code",
      "source": [
        "eg: <h1>Welcome</h1>\n",
        "<h1> → Opening tag\n",
        "\n",
        "</h1> → Closing tag"
      ],
      "metadata": {
        "id": "mUQmAIdz-4tc"
      },
      "execution_count": null,
      "outputs": []
    },
    {
      "cell_type": "markdown",
      "source": [
        "--> ELEMENT :\n",
        "An element consists of an opening tag, content, and a closing tag. It represents the entire structure defined by the tag.\n",
        "\n"
      ],
      "metadata": {
        "id": "ZmLHZnXV7iZr"
      }
    },
    {
      "cell_type": "code",
      "source": [
        " eg :<p>This is a paragraph.</p>\n",
        "<p> → Opening tag\n",
        "\n",
        "This is a paragraph. → Content\n",
        "\n",
        "</p> → Closing tag\n",
        "\n",
        "Whole thing is an \"element\".\n"
      ],
      "metadata": {
        "id": "Cxo87kQ3_D5j"
      },
      "execution_count": null,
      "outputs": []
    },
    {
      "cell_type": "markdown",
      "source": [
        "5.  What is the DOCTYPE Declaration in HTML?"
      ],
      "metadata": {
        "id": "0T7GZfOw8K-3"
      }
    },
    {
      "cell_type": "markdown",
      "source": [
        "Defines the document type and tells the browser to use HTML5.\n",
        "✔ Placed at the very top of an HTML file.\n",
        "✔ Prevents quirks mode, ensuring proper page rendering.\n",
        "✔ Not a tag, just an instruction for the browser.\n",
        "✔ Syntax: <!DOCTYPE html> (no closing tag needed)."
      ],
      "metadata": {
        "id": "d6q9jJQ48it8"
      }
    }
  ]
}